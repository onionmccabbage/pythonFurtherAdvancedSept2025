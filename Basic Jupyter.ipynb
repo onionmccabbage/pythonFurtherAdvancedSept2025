{
 "cells": [
  {
   "cell_type": "code",
   "execution_count": 7,
   "id": "c4199745",
   "metadata": {},
   "outputs": [
    {
     "data": {
      "text/plain": [
       "0.23809523809523808"
      ]
     },
     "execution_count": 7,
     "metadata": {},
     "output_type": "execute_result"
    }
   ],
   "source": [
    "# here is a cell. This is where we write our Python code\n",
    "a=1\n",
    "b=4.2\n",
    "# NB this output depends on __repr__\n",
    "b/a # or we may use the print() statement (uses __str__)\n",
    "a/b"
   ]
  },
  {
   "cell_type": "code",
   "execution_count": 8,
   "id": "f43ec2eb",
   "metadata": {},
   "outputs": [
    {
     "data": {
      "text/plain": [
       "4.2"
      ]
     },
     "execution_count": 8,
     "metadata": {},
     "output_type": "execute_result"
    }
   ],
   "source": [
    "b # shift-enter runs this cell and creates a new cell below"
   ]
  },
  {
   "cell_type": "code",
   "execution_count": 9,
   "id": "8daaaa82",
   "metadata": {},
   "outputs": [
    {
     "data": {
      "text/plain": [
       "1"
      ]
     },
     "execution_count": 9,
     "metadata": {},
     "output_type": "execute_result"
    }
   ],
   "source": [
    "a # ctrl-enter runs this cell and stays here (does not make a new blank cell)"
   ]
  }
 ],
 "metadata": {
  "kernelspec": {
   "display_name": "Python 3 (ipykernel)",
   "language": "python",
   "name": "python3"
  },
  "language_info": {
   "codemirror_mode": {
    "name": "ipython",
    "version": 3
   },
   "file_extension": ".py",
   "mimetype": "text/x-python",
   "name": "python",
   "nbconvert_exporter": "python",
   "pygments_lexer": "ipython3",
   "version": "3.9.13"
  }
 },
 "nbformat": 4,
 "nbformat_minor": 5
}
