{
 "cells": [
  {
   "cell_type": "markdown",
   "id": "d5019b8f-fe6b-4ce0-b291-617853bb711a",
   "metadata": {},
   "source": [
    "### More Data Analysis Tools\n",
    "* data cleaning and preparation\n",
    "* statistical accumulation\n",
    "* charting"
   ]
  },
  {
   "cell_type": "code",
   "execution_count": 2,
   "id": "7e8f54a1-2899-43e5-a6d4-b1867a0f7b81",
   "metadata": {},
   "outputs": [],
   "source": [
    "import numpy as np\n",
    "import pandas as pd\n",
    "import matplotlib.pyplot as plt"
   ]
  },
  {
   "cell_type": "code",
   "execution_count": 10,
   "id": "aa94f922-9936-4250-be71-ac9b9934165c",
   "metadata": {},
   "outputs": [
    {
     "data": {
      "text/html": [
       "<div>\n",
       "<style scoped>\n",
       "    .dataframe tbody tr th:only-of-type {\n",
       "        vertical-align: middle;\n",
       "    }\n",
       "\n",
       "    .dataframe tbody tr th {\n",
       "        vertical-align: top;\n",
       "    }\n",
       "\n",
       "    .dataframe thead th {\n",
       "        text-align: right;\n",
       "    }\n",
       "</style>\n",
       "<table border=\"1\" class=\"dataframe\">\n",
       "  <thead>\n",
       "    <tr style=\"text-align: right;\">\n",
       "      <th></th>\n",
       "      <th>stpr</th>\n",
       "      <th>ltpr</th>\n",
       "      <th>ster</th>\n",
       "      <th>lter</th>\n",
       "      <th>ori</th>\n",
       "      <th>cir</th>\n",
       "    </tr>\n",
       "    <tr>\n",
       "      <th>Country</th>\n",
       "      <th></th>\n",
       "      <th></th>\n",
       "      <th></th>\n",
       "      <th></th>\n",
       "      <th></th>\n",
       "      <th></th>\n",
       "    </tr>\n",
       "  </thead>\n",
       "  <tbody>\n",
       "    <tr>\n",
       "      <th>Albania</th>\n",
       "      <td>47.6</td>\n",
       "      <td>35.3</td>\n",
       "      <td>57.7</td>\n",
       "      <td>52.8</td>\n",
       "      <td>52.7</td>\n",
       "      <td>49.70</td>\n",
       "    </tr>\n",
       "    <tr>\n",
       "      <th>Algeria</th>\n",
       "      <td>42.1</td>\n",
       "      <td>48.6</td>\n",
       "      <td>45.0</td>\n",
       "      <td>54.5</td>\n",
       "      <td>59.6</td>\n",
       "      <td>51.83</td>\n",
       "    </tr>\n",
       "    <tr>\n",
       "      <th>Armenia</th>\n",
       "      <td>49.8</td>\n",
       "      <td>35.5</td>\n",
       "      <td>61.9</td>\n",
       "      <td>60.3</td>\n",
       "      <td>45.9</td>\n",
       "      <td>49.54</td>\n",
       "    </tr>\n",
       "    <tr>\n",
       "      <th>Australia</th>\n",
       "      <td>21.7</td>\n",
       "      <td>17.4</td>\n",
       "      <td>23.7</td>\n",
       "      <td>25.4</td>\n",
       "      <td>25.5</td>\n",
       "      <td>22.77</td>\n",
       "    </tr>\n",
       "    <tr>\n",
       "      <th>Austria</th>\n",
       "      <td>20.7</td>\n",
       "      <td>10.3</td>\n",
       "      <td>31.0</td>\n",
       "      <td>26.3</td>\n",
       "      <td>24.4</td>\n",
       "      <td>22.38</td>\n",
       "    </tr>\n",
       "    <tr>\n",
       "      <th>...</th>\n",
       "      <td>...</td>\n",
       "      <td>...</td>\n",
       "      <td>...</td>\n",
       "      <td>...</td>\n",
       "      <td>...</td>\n",
       "      <td>...</td>\n",
       "    </tr>\n",
       "    <tr>\n",
       "      <th>Uzbekistan</th>\n",
       "      <td>37.9</td>\n",
       "      <td>43.9</td>\n",
       "      <td>64.6</td>\n",
       "      <td>56.0</td>\n",
       "      <td>54.5</td>\n",
       "      <td>52.02</td>\n",
       "    </tr>\n",
       "    <tr>\n",
       "      <th>Venezuela</th>\n",
       "      <td>59.2</td>\n",
       "      <td>66.1</td>\n",
       "      <td>74.8</td>\n",
       "      <td>74.3</td>\n",
       "      <td>69.3</td>\n",
       "      <td>68.85</td>\n",
       "    </tr>\n",
       "    <tr>\n",
       "      <th>Vietnam</th>\n",
       "      <td>18.3</td>\n",
       "      <td>37.0</td>\n",
       "      <td>34.2</td>\n",
       "      <td>36.5</td>\n",
       "      <td>42.7</td>\n",
       "      <td>34.96</td>\n",
       "    </tr>\n",
       "    <tr>\n",
       "      <th>West Bank And Gaza</th>\n",
       "      <td>71.7</td>\n",
       "      <td>60.8</td>\n",
       "      <td>59.4</td>\n",
       "      <td>64.7</td>\n",
       "      <td>63.0</td>\n",
       "      <td>63.52</td>\n",
       "    </tr>\n",
       "    <tr>\n",
       "      <th>Yemen</th>\n",
       "      <td>77.7</td>\n",
       "      <td>70.4</td>\n",
       "      <td>72.3</td>\n",
       "      <td>76.5</td>\n",
       "      <td>77.3</td>\n",
       "      <td>75.54</td>\n",
       "    </tr>\n",
       "  </tbody>\n",
       "</table>\n",
       "<p>100 rows × 6 columns</p>\n",
       "</div>"
      ],
      "text/plain": [
       "                    stpr  ltpr  ster  lter   ori    cir\n",
       "Country                                                \n",
       "Albania             47.6  35.3  57.7  52.8  52.7  49.70\n",
       "Algeria             42.1  48.6  45.0  54.5  59.6  51.83\n",
       "Armenia             49.8  35.5  61.9  60.3  45.9  49.54\n",
       "Australia           21.7  17.4  23.7  25.4  25.5  22.77\n",
       "Austria             20.7  10.3  31.0  26.3  24.4  22.38\n",
       "...                  ...   ...   ...   ...   ...    ...\n",
       "Uzbekistan          37.9  43.9  64.6  56.0  54.5  52.02\n",
       "Venezuela           59.2  66.1  74.8  74.3  69.3  68.85\n",
       "Vietnam             18.3  37.0  34.2  36.5  42.7  34.96\n",
       "West Bank And Gaza  71.7  60.8  59.4  64.7  63.0  63.52\n",
       "Yemen               77.7  70.4  72.3  76.5  77.3  75.54\n",
       "\n",
       "[100 rows x 6 columns]"
      ]
     },
     "execution_count": 10,
     "metadata": {},
     "output_type": "execute_result"
    }
   ],
   "source": [
    "# Data Cleaning and Preparation\n",
    "# NB ensure the external asset is reachable!\n",
    "df = pd.read_csv('data/risk.csv', index_col='Country') # good idea to havev sensible index\n",
    "# we will re-name the columns for simplicity\n",
    "i = ['stpr','ltpr','ster','lter','ori','cir']\n",
    "df.columns = i\n",
    "df.sort_index(inplace=True) # it may help if we sort the data\n",
    "df"
   ]
  },
  {
   "cell_type": "code",
   "execution_count": 19,
   "id": "6c67a070-572c-40e5-94bf-da14ed85e8e5",
   "metadata": {},
   "outputs": [
    {
     "data": {
      "text/html": [
       "<div>\n",
       "<style scoped>\n",
       "    .dataframe tbody tr th:only-of-type {\n",
       "        vertical-align: middle;\n",
       "    }\n",
       "\n",
       "    .dataframe tbody tr th {\n",
       "        vertical-align: top;\n",
       "    }\n",
       "\n",
       "    .dataframe thead th {\n",
       "        text-align: right;\n",
       "    }\n",
       "</style>\n",
       "<table border=\"1\" class=\"dataframe\">\n",
       "  <thead>\n",
       "    <tr style=\"text-align: right;\">\n",
       "      <th></th>\n",
       "      <th>stpr</th>\n",
       "      <th>ltpr</th>\n",
       "      <th>ster</th>\n",
       "      <th>lter</th>\n",
       "      <th>ori</th>\n",
       "      <th>cir</th>\n",
       "    </tr>\n",
       "    <tr>\n",
       "      <th>Country</th>\n",
       "      <th></th>\n",
       "      <th></th>\n",
       "      <th></th>\n",
       "      <th></th>\n",
       "      <th></th>\n",
       "      <th></th>\n",
       "    </tr>\n",
       "  </thead>\n",
       "  <tbody>\n",
       "    <tr>\n",
       "      <th>Cuba</th>\n",
       "      <td>29.8</td>\n",
       "      <td>44.0</td>\n",
       "      <td>70.6</td>\n",
       "      <td>72.8</td>\n",
       "      <td>60.2</td>\n",
       "      <td>56.75</td>\n",
       "    </tr>\n",
       "    <tr>\n",
       "      <th>Venezuela</th>\n",
       "      <td>59.2</td>\n",
       "      <td>66.1</td>\n",
       "      <td>74.8</td>\n",
       "      <td>74.3</td>\n",
       "      <td>69.3</td>\n",
       "      <td>68.85</td>\n",
       "    </tr>\n",
       "    <tr>\n",
       "      <th>Yemen</th>\n",
       "      <td>77.7</td>\n",
       "      <td>70.4</td>\n",
       "      <td>72.3</td>\n",
       "      <td>76.5</td>\n",
       "      <td>77.3</td>\n",
       "      <td>75.54</td>\n",
       "    </tr>\n",
       "  </tbody>\n",
       "</table>\n",
       "</div>"
      ],
      "text/plain": [
       "           stpr  ltpr  ster  lter   ori    cir\n",
       "Country                                       \n",
       "Cuba       29.8  44.0  70.6  72.8  60.2  56.75\n",
       "Venezuela  59.2  66.1  74.8  74.3  69.3  68.85\n",
       "Yemen      77.7  70.4  72.3  76.5  77.3  75.54"
      ]
     },
     "execution_count": 19,
     "metadata": {},
     "output_type": "execute_result"
    }
   ],
   "source": [
    "# finding interesting data facets\n",
    "# all the lter > 70\n",
    "c1 =  df['lter']>70\n",
    "c2 =  df['ori']<12\n",
    "df[c1 | c2] #  | means or & means and ! means not"
   ]
  },
  {
   "cell_type": "code",
   "execution_count": 30,
   "id": "297e6d82-6f30-42f6-b7b9-098cd9364cb0",
   "metadata": {},
   "outputs": [
    {
     "data": {
      "text/plain": [
       "<matplotlib.collections.PathCollection at 0x164b864bb10>"
      ]
     },
     "execution_count": 30,
     "metadata": {},
     "output_type": "execute_result"
    },
    {
     "data": {
      "image/png": "[encoded data removed]",
      "text/plain": [
       "<Figure size 640x480 with 1 Axes>"
      ]
     },
     "metadata": {},
     "output_type": "display_data"
    }
   ],
   "source": [
    "# We may easily chart our data (using matplotlib)\n",
    "x=df['lter']\n",
    "y=df['ster']\n",
    "plt.scatter(x,y) # or plot, bar, hbar, line, pie etc"
   ]
  },
  {
   "cell_type": "markdown",
   "id": "d425dbf9-bd6b-4939-87d4-d684b5fa6c00",
   "metadata": {},
   "source": [
    "### Further operations"
   ]
  },
  {
   "cell_type": "code",
   "execution_count": 34,
   "id": "a66d5603-91e1-4836-a128-91b2168abbe9",
   "metadata": {},
   "outputs": [
    {
     "data": {
      "text/plain": [
       "stpr    float64\n",
       "ltpr    float64\n",
       "ster    float64\n",
       "lter    float64\n",
       "ori     float64\n",
       "cir     float64\n",
       "dtype: object"
      ]
     },
     "execution_count": 34,
     "metadata": {},
     "output_type": "execute_result"
    }
   ],
   "source": [
    "df.shape # rows by columns NB every column is actially a Series (containing a single data type)\n",
    "len(df) # how many members\n",
    "df.dtypes # what is in each Series (each column)"
   ]
  },
  {
   "cell_type": "code",
   "execution_count": 62,
   "id": "39661416-0567-412d-9a5e-0b847439792a",
   "metadata": {},
   "outputs": [
    {
     "data": {
      "text/html": [
       "<div>\n",
       "<style scoped>\n",
       "    .dataframe tbody tr th:only-of-type {\n",
       "        vertical-align: middle;\n",
       "    }\n",
       "\n",
       "    .dataframe tbody tr th {\n",
       "        vertical-align: top;\n",
       "    }\n",
       "\n",
       "    .dataframe thead th {\n",
       "        text-align: right;\n",
       "    }\n",
       "</style>\n",
       "<table border=\"1\" class=\"dataframe\">\n",
       "  <thead>\n",
       "    <tr style=\"text-align: right;\">\n",
       "      <th></th>\n",
       "      <th>stpr</th>\n",
       "      <th>ltpr</th>\n",
       "      <th>ster</th>\n",
       "      <th>lter</th>\n",
       "      <th>or</th>\n",
       "      <th>last_cri</th>\n",
       "    </tr>\n",
       "    <tr>\n",
       "      <th>country</th>\n",
       "      <th></th>\n",
       "      <th></th>\n",
       "      <th></th>\n",
       "      <th></th>\n",
       "      <th></th>\n",
       "      <th></th>\n",
       "    </tr>\n",
       "  </thead>\n",
       "  <tbody>\n",
       "    <tr>\n",
       "      <th>Albania</th>\n",
       "      <td>47.6</td>\n",
       "      <td>35.3</td>\n",
       "      <td>57.7</td>\n",
       "      <td>52.8</td>\n",
       "      <td>52.7</td>\n",
       "      <td>47.70</td>\n",
       "    </tr>\n",
       "    <tr>\n",
       "      <th>Algeria</th>\n",
       "      <td>42.1</td>\n",
       "      <td>48.6</td>\n",
       "      <td>45.0</td>\n",
       "      <td>54.5</td>\n",
       "      <td>59.6</td>\n",
       "      <td>50.83</td>\n",
       "    </tr>\n",
       "    <tr>\n",
       "      <th>Armenia</th>\n",
       "      <td>49.8</td>\n",
       "      <td>35.5</td>\n",
       "      <td>61.9</td>\n",
       "      <td>60.3</td>\n",
       "      <td>45.9</td>\n",
       "      <td>50.54</td>\n",
       "    </tr>\n",
       "    <tr>\n",
       "      <th>Australia</th>\n",
       "      <td>21.7</td>\n",
       "      <td>17.4</td>\n",
       "      <td>23.7</td>\n",
       "      <td>25.4</td>\n",
       "      <td>25.5</td>\n",
       "      <td>24.77</td>\n",
       "    </tr>\n",
       "    <tr>\n",
       "      <th>Austria</th>\n",
       "      <td>20.7</td>\n",
       "      <td>10.3</td>\n",
       "      <td>31.0</td>\n",
       "      <td>26.3</td>\n",
       "      <td>24.4</td>\n",
       "      <td>20.88</td>\n",
       "    </tr>\n",
       "    <tr>\n",
       "      <th>Bahrain</th>\n",
       "      <td>26.9</td>\n",
       "      <td>38.7</td>\n",
       "      <td>49.2</td>\n",
       "      <td>46.8</td>\n",
       "      <td>31.4</td>\n",
       "      <td>39.27</td>\n",
       "    </tr>\n",
       "    <tr>\n",
       "      <th>Belgium</th>\n",
       "      <td>40.6</td>\n",
       "      <td>19.9</td>\n",
       "      <td>36.2</td>\n",
       "      <td>29.4</td>\n",
       "      <td>25.7</td>\n",
       "      <td>27.45</td>\n",
       "    </tr>\n",
       "    <tr>\n",
       "      <th>Benin</th>\n",
       "      <td>38.3</td>\n",
       "      <td>39.9</td>\n",
       "      <td>52.1</td>\n",
       "      <td>60.3</td>\n",
       "      <td>62.1</td>\n",
       "      <td>50.86</td>\n",
       "    </tr>\n",
       "    <tr>\n",
       "      <th>Bermuda</th>\n",
       "      <td>21.5</td>\n",
       "      <td>NaN</td>\n",
       "      <td>NaN</td>\n",
       "      <td>NaN</td>\n",
       "      <td>NaN</td>\n",
       "      <td>NaN</td>\n",
       "    </tr>\n",
       "    <tr>\n",
       "      <th>Bhutan</th>\n",
       "      <td>39.7</td>\n",
       "      <td>40</td>\n",
       "      <td>62.9</td>\n",
       "      <td>67.3</td>\n",
       "      <td>56.3</td>\n",
       "      <td>56.22</td>\n",
       "    </tr>\n",
       "    <tr>\n",
       "      <th>Bolivia</th>\n",
       "      <td>51.6</td>\n",
       "      <td>50.3</td>\n",
       "      <td>45.6</td>\n",
       "      <td>44.7</td>\n",
       "      <td>60.0</td>\n",
       "      <td>49.66</td>\n",
       "    </tr>\n",
       "    <tr>\n",
       "      <th>Brazil</th>\n",
       "      <td>45.4</td>\n",
       "      <td>31.9</td>\n",
       "      <td>45.9</td>\n",
       "      <td>35.2</td>\n",
       "      <td>50.3</td>\n",
       "      <td>41.79</td>\n",
       "    </tr>\n",
       "    <tr>\n",
       "      <th>Brunei Darussalam</th>\n",
       "      <td>9.2</td>\n",
       "      <td>31.7</td>\n",
       "      <td>38.5</td>\n",
       "      <td>49.2</td>\n",
       "      <td>35.1</td>\n",
       "      <td>34.99</td>\n",
       "    </tr>\n",
       "    <tr>\n",
       "      <th>Bulgaria</th>\n",
       "      <td>41.2</td>\n",
       "      <td>29.1</td>\n",
       "      <td>48.7</td>\n",
       "      <td>39.5</td>\n",
       "      <td>38.1</td>\n",
       "      <td>40.82</td>\n",
       "    </tr>\n",
       "    <tr>\n",
       "      <th>Bulgaria</th>\n",
       "      <td>41.2</td>\n",
       "      <td>29.1</td>\n",
       "      <td>48.7</td>\n",
       "      <td>39.5</td>\n",
       "      <td>38.1</td>\n",
       "      <td>40.42</td>\n",
       "    </tr>\n",
       "    <tr>\n",
       "      <th>Burundi</th>\n",
       "      <td>69.2</td>\n",
       "      <td>65.5</td>\n",
       "      <td>65.6</td>\n",
       "      <td>63.8</td>\n",
       "      <td>73.3</td>\n",
       "      <td>67.15</td>\n",
       "    </tr>\n",
       "    <tr>\n",
       "      <th>Cambodia</th>\n",
       "      <td>35.6</td>\n",
       "      <td>40.5</td>\n",
       "      <td>53.5</td>\n",
       "      <td>54.4</td>\n",
       "      <td>57.3</td>\n",
       "      <td>51.70</td>\n",
       "    </tr>\n",
       "    <tr>\n",
       "      <th>Cameroon</th>\n",
       "      <td>50.6</td>\n",
       "      <td>51.3</td>\n",
       "      <td>46.5</td>\n",
       "      <td>45.6</td>\n",
       "      <td>67.2</td>\n",
       "      <td>56.06</td>\n",
       "    </tr>\n",
       "    <tr>\n",
       "      <th>China</th>\n",
       "      <td>22.0</td>\n",
       "      <td>31.4</td>\n",
       "      <td>25.4</td>\n",
       "      <td>NaN</td>\n",
       "      <td>38.3</td>\n",
       "      <td>31.56</td>\n",
       "    </tr>\n",
       "    <tr>\n",
       "      <th>Colombia</th>\n",
       "      <td>39.0</td>\n",
       "      <td>40</td>\n",
       "      <td>43.6</td>\n",
       "      <td>42.9</td>\n",
       "      <td>48.5</td>\n",
       "      <td>42.49</td>\n",
       "    </tr>\n",
       "  </tbody>\n",
       "</table>\n",
       "</div>"
      ],
      "text/plain": [
       "                   stpr  ltpr  ster  lter    or  last_cri\n",
       "country                                                  \n",
       "Albania            47.6  35.3  57.7  52.8  52.7     47.70\n",
       "Algeria            42.1  48.6  45.0  54.5  59.6     50.83\n",
       "Armenia            49.8  35.5  61.9  60.3  45.9     50.54\n",
       "Australia          21.7  17.4  23.7  25.4  25.5     24.77\n",
       "Austria            20.7  10.3  31.0  26.3  24.4     20.88\n",
       "Bahrain            26.9  38.7  49.2  46.8  31.4     39.27\n",
       "Belgium            40.6  19.9  36.2  29.4  25.7     27.45\n",
       "Benin              38.3  39.9  52.1  60.3  62.1     50.86\n",
       "Bermuda            21.5   NaN   NaN   NaN   NaN       NaN\n",
       "Bhutan             39.7    40  62.9  67.3  56.3     56.22\n",
       "Bolivia            51.6  50.3  45.6  44.7  60.0     49.66\n",
       "Brazil             45.4  31.9  45.9  35.2  50.3     41.79\n",
       "Brunei Darussalam   9.2  31.7  38.5  49.2  35.1     34.99\n",
       "Bulgaria           41.2  29.1  48.7  39.5  38.1     40.82\n",
       "Bulgaria           41.2  29.1  48.7  39.5  38.1     40.42\n",
       "Burundi            69.2  65.5  65.6  63.8  73.3     67.15\n",
       "Cambodia           35.6  40.5  53.5  54.4  57.3     51.70\n",
       "Cameroon           50.6  51.3  46.5  45.6  67.2     56.06\n",
       "China              22.0  31.4  25.4   NaN  38.3     31.56\n",
       "Colombia           39.0    40  43.6  42.9  48.5     42.49"
      ]
     },
     "execution_count": 62,
     "metadata": {},
     "output_type": "execute_result"
    }
   ],
   "source": [
    "# bring in some problematic data\n",
    "df2 = pd.read_csv('data/messy.csv', index_col='country')\n",
    "df2.head(20)\n",
    "# remember to re-run this cell if we ever need to recover the original data"
   ]
  },
  {
   "cell_type": "code",
   "execution_count": 65,
   "id": "a876670f-439c-43eb-a916-04d1231bd218",
   "metadata": {},
   "outputs": [
    {
     "data": {
      "text/html": [
       "<div>\n",
       "<style scoped>\n",
       "    .dataframe tbody tr th:only-of-type {\n",
       "        vertical-align: middle;\n",
       "    }\n",
       "\n",
       "    .dataframe tbody tr th {\n",
       "        vertical-align: top;\n",
       "    }\n",
       "\n",
       "    .dataframe thead th {\n",
       "        text-align: right;\n",
       "    }\n",
       "</style>\n",
       "<table border=\"1\" class=\"dataframe\">\n",
       "  <thead>\n",
       "    <tr style=\"text-align: right;\">\n",
       "      <th></th>\n",
       "      <th>stpr</th>\n",
       "      <th>ltpr</th>\n",
       "      <th>ster</th>\n",
       "      <th>lter</th>\n",
       "      <th>or</th>\n",
       "      <th>last_cri</th>\n",
       "    </tr>\n",
       "    <tr>\n",
       "      <th>country</th>\n",
       "      <th></th>\n",
       "      <th></th>\n",
       "      <th></th>\n",
       "      <th></th>\n",
       "      <th></th>\n",
       "      <th></th>\n",
       "    </tr>\n",
       "  </thead>\n",
       "  <tbody>\n",
       "    <tr>\n",
       "      <th>Benin</th>\n",
       "      <td>38.3</td>\n",
       "      <td>39.9</td>\n",
       "      <td>52.1</td>\n",
       "      <td>60.3</td>\n",
       "      <td>62.1</td>\n",
       "      <td>50.86</td>\n",
       "    </tr>\n",
       "    <tr>\n",
       "      <th>Bermuda</th>\n",
       "      <td>21.5</td>\n",
       "      <td>39.9</td>\n",
       "      <td>52.1</td>\n",
       "      <td>60.3</td>\n",
       "      <td>62.1</td>\n",
       "      <td>50.86</td>\n",
       "    </tr>\n",
       "  </tbody>\n",
       "</table>\n",
       "</div>"
      ],
      "text/plain": [
       "         stpr  ltpr  ster  lter    or  last_cri\n",
       "country                                        \n",
       "Benin    38.3  39.9  52.1  60.3  62.1     50.86\n",
       "Bermuda  21.5  39.9  52.1  60.3  62.1     50.86"
      ]
     },
     "execution_count": 65,
     "metadata": {},
     "output_type": "execute_result"
    }
   ],
   "source": [
    "# how to see only 'Bermuda'\n",
    "# df2.fillna(0, inplace=True)\n",
    "df2.ffill(inplace=True) # take the previous value and use it to fill the next NaN\n",
    "df2.loc[['Benin','Bermuda']]\n",
    "# Risky - first, we no longer ignore NaN since it has avalue. Second, we are skewing the statistics"
   ]
  },
  {
   "cell_type": "markdown",
   "id": "47424a92-db05-42f8-95cd-cda250923378",
   "metadata": {},
   "source": [
    "### More Charting"
   ]
  },
  {
   "cell_type": "code",
   "execution_count": 68,
   "id": "597b190f-cf4d-4958-b5a5-d52c8b1a3181",
   "metadata": {},
   "outputs": [
    {
     "data": {
      "text/plain": [
       "(array([0, 1, 2, 3, 4]),\n",
       " array([2.9189217 , 2.86338482, 2.92691315, 2.35783037, 2.06531083]))"
      ]
     },
     "execution_count": 68,
     "metadata": {},
     "output_type": "execute_result"
    }
   ],
   "source": [
    "# begin by generating some data values\n",
    "x = np.arange(5)\n",
    "y = np.random.rand(5)+2 # all random numbers will be more than 2\n",
    "(x,y)"
   ]
  },
  {
   "cell_type": "code",
   "execution_count": 71,
   "id": "870587ae-7c90-45a6-8628-a00be7feddd5",
   "metadata": {},
   "outputs": [
    {
     "data": {
      "text/plain": [
       "Text(0.5, 1.0, 'Vertical Bars')"
      ]
     },
     "execution_count": 71,
     "metadata": {},
     "output_type": "execute_result"
    },
    {
     "data": {
      "image/png": "[encoded data removed]",
      "text/plain": [
       "<Figure size 640x480 with 1 Axes>"
      ]
     },
     "metadata": {},
     "output_type": "display_data"
    }
   ],
   "source": [
    "plt.bar(x,y)\n",
    "plt.title('Vertical Bars')"
   ]
  },
  {
   "cell_type": "code",
   "execution_count": 83,
   "id": "0ce3eca7-8948-4a54-8f7b-bfef6f802839",
   "metadata": {},
   "outputs": [
    {
     "data": {
      "text/plain": [
       "(array([0.00000000e+00, 5.45454546e-01, 1.09090909e+00, ...,\n",
       "        5.99999999e+08, 5.99999999e+08, 6.00000000e+08],\n",
       "       shape=(1100000000,)),\n",
       " array([0.00000000e+00, 2.97520662e-01, 1.19008265e+00, ...,\n",
       "        3.59999999e+17, 3.59999999e+17, 3.60000000e+17],\n",
       "       shape=(1100000000,)))"
      ]
     },
     "execution_count": 83,
     "metadata": {},
     "output_type": "execute_result"
    }
   ],
   "source": [
    "# line chart\n",
    "x = np.linspace(0,600000000,1100000000) # start, stop, number of segments\n",
    "y = np.power(x,2) # this is performant\n",
    "(x,y)"
   ]
  },
  {
   "cell_type": "code",
   "execution_count": 84,
   "id": "402def88-7c87-4929-b36a-1aa8865509d7",
   "metadata": {},
   "outputs": [
    {
     "data": {
      "text/plain": [
       "[<matplotlib.lines.Line2D at 0x164bdda1310>]"
      ]
     },
     "execution_count": 84,
     "metadata": {},
     "output_type": "execute_result"
    },
    {
     "data": {
      "image/png": "[encoded data removed]",
      "text/plain": [
       "<Figure size 640x480 with 1 Axes>"
      ]
     },
     "metadata": {},
     "output_type": "display_data"
    }
   ],
   "source": [
    "plt.xlabel('linear progression')\n",
    "plt.ylabel('Squares')\n",
    "plt.plot(x,y)\n",
    "        "
   ]
  },
  {
   "cell_type": "code",
   "execution_count": null,
   "id": "81ed99de-b9a6-4d8b-9c08-a9a131a11a10",
   "metadata": {},
   "outputs": [],
   "source": []
  }
 ],
 "metadata": {
  "kernelspec": {
   "display_name": "Python 3 (ipykernel)",
   "language": "python",
   "name": "python3"
  },
  "language_info": {
   "codemirror_mode": {
    "name": "ipython",
    "version": 3
   },
   "file_extension": ".py",
   "mimetype": "text/x-python",
   "name": "python",
   "nbconvert_exporter": "python",
   "pygments_lexer": "ipython3",
   "version": "3.13.7"
  }
 },
 "nbformat": 4,
 "nbformat_minor": 5
}
