{
 "cells": [
  {
   "cell_type": "markdown",
   "id": "24cf9410",
   "metadata": {},
   "source": [
    "### Introducting Pandas\n",
    "Numpy and Pandas are both used for data analysis"
   ]
  },
  {
   "cell_type": "code",
   "execution_count": 2,
   "id": "11b00022",
   "metadata": {
    "scrolled": true
   },
   "outputs": [],
   "source": [
    "# We normally begin by importing the usual libraries\n",
    "import numpy as np\n",
    "import pandas as pd # NB resolved problem by uninstall and reinstall\n",
    "# import matplotlib.pyplot as plt"
   ]
  },
  {
   "cell_type": "code",
   "execution_count": 5,
   "id": "db0a645b",
   "metadata": {},
   "outputs": [
    {
     "data": {
      "text/plain": [
       "RangeIndex(start=0, stop=4, step=1)"
      ]
     },
     "execution_count": 5,
     "metadata": {},
     "output_type": "execute_result"
    }
   ],
   "source": [
    "# Pandas Series - a mutable ordinal collection of ONE data type\n",
    "l = [9.0, 7, -5, 3.99]\n",
    "p = pd.Series(l)\n",
    "p # a pandas Series (made up of a numpy array)\n",
    "p.values\n",
    "p.index # ordinal index from zero"
   ]
  },
  {
   "cell_type": "code",
   "execution_count": 11,
   "id": "0f161ca3",
   "metadata": {},
   "outputs": [
    {
     "data": {
      "text/plain": [
       "b    7.0\n",
       "b   -5.0\n",
       "dtype: float64"
      ]
     },
     "execution_count": 11,
     "metadata": {},
     "output_type": "execute_result"
    }
   ],
   "source": [
    "# We may customize the index\n",
    "ind = ('c', 'b', 'b', 'd')\n",
    "p = pd.Series(l, index=ind)\n",
    "p # we see the Series indexed using our tuple\n",
    "# so what about slicing...\n",
    "p[0:3] # use the underlying ordinality\n",
    "p['b':'d'] # NB this is INCLUSIVE (not stop-before)\n",
    "p['c'] = 99 # we may mutate members\n",
    "p['b'] # gets all matching index members (index need not be unique)"
   ]
  },
  {
   "cell_type": "code",
   "execution_count": 18,
   "id": "35432761",
   "metadata": {},
   "outputs": [
    {
     "data": {
      "text/plain": [
       "c    297.00\n",
       "b     21.00\n",
       "d     11.97\n",
       "dtype: float64"
      ]
     },
     "execution_count": 18,
     "metadata": {},
     "output_type": "execute_result"
    }
   ],
   "source": [
    "s = p*3 # by default operations are transitory (they do not persist)\n",
    "# p[p>2] # or any comparison operator\n",
    "s[s>10]"
   ]
  },
  {
   "cell_type": "code",
   "execution_count": 33,
   "id": "7eca4b08",
   "metadata": {},
   "outputs": [
    {
     "data": {
      "text/plain": [
       "np.float64(314.97)"
      ]
     },
     "execution_count": 33,
     "metadata": {},
     "output_type": "execute_result"
    }
   ],
   "source": [
    "# Working with non-numbers\n",
    "s['a'] = np.nan\n",
    "s.count() # excludes NaN members\n",
    "s.mean() # excludes non-numbers\n",
    "s.sum() # all excluding NaN"
   ]
  },
  {
   "cell_type": "code",
   "execution_count": 36,
   "id": "f61f8826",
   "metadata": {},
   "outputs": [
    {
     "data": {
      "text/plain": [
       "c    297.00\n",
       "b     21.00\n",
       "b    -15.00\n",
       "d     11.97\n",
       "a       NaN\n",
       "dtype: float64"
      ]
     },
     "execution_count": 36,
     "metadata": {},
     "output_type": "execute_result"
    }
   ],
   "source": [
    "s.index\n",
    "s"
   ]
  },
  {
   "cell_type": "code",
   "execution_count": 37,
   "id": "fbcd1109",
   "metadata": {},
   "outputs": [
    {
     "data": {
      "text/plain": [
       "np.float64(-15.0)"
      ]
     },
     "execution_count": 37,
     "metadata": {},
     "output_type": "execute_result"
    }
   ],
   "source": [
    "# we may ue iloc to grab ordinal members\n",
    "s.iloc[2] # iloc for index-location (uses the underlying ordinal members)\n",
    "# s[3] # this fails\n",
    "# s['c'] # access by the index"
   ]
  },
  {
   "cell_type": "markdown",
   "id": "64048417",
   "metadata": {},
   "source": [
    "### DataFrame"
   ]
  },
  {
   "cell_type": "code",
   "execution_count": null,
   "id": "f340a0e8",
   "metadata": {},
   "outputs": [],
   "source": [
    "# a Pandas DataFrame is a collection of Series\n",
    "# Therefore each column of a DataFrame must contain one data type only\n",
    "# But different columns may contain different data types\n",
    "# It is very similar to a spreadsheet\n"
   ]
  }
 ],
 "metadata": {
  "kernelspec": {
   "display_name": "Python 3 (ipykernel)",
   "language": "python",
   "name": "python3"
  },
  "language_info": {
   "codemirror_mode": {
    "name": "ipython",
    "version": 3
   },
   "file_extension": ".py",
   "mimetype": "text/x-python",
   "name": "python",
   "nbconvert_exporter": "python",
   "pygments_lexer": "ipython3",
   "version": "3.9.13"
  }
 },
 "nbformat": 4,
 "nbformat_minor": 5
}
