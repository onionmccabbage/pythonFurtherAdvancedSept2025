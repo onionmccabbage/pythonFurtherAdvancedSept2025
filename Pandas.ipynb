{
 "cells": [
  {
   "cell_type": "markdown",
   "id": "620a8d09",
   "metadata": {},
   "source": [
    "### Introducting Pandas\n",
    "Numpy and Pandas are both used for data analysis"
   ]
  },
  {
   "cell_type": "code",
   "execution_count": 2,
   "id": "c1ab2009",
   "metadata": {
    "scrolled": true
   },
   "outputs": [],
   "source": [
    "# We normally begin by importing the usual libraries\n",
    "import numpy as np\n",
    "import pandas as pd # NB resolved problem by uninstall and reinstall\n",
    "# import matplotlib.pyplot as plt"
   ]
  },
  {
   "cell_type": "code",
   "execution_count": 5,
   "id": "74db12cd",
   "metadata": {},
   "outputs": [
    {
     "data": {
      "text/plain": [
       "RangeIndex(start=0, stop=4, step=1)"
      ]
     },
     "execution_count": 5,
     "metadata": {},
     "output_type": "execute_result"
    }
   ],
   "source": [
    "# Pandas Series - a mutable ordinal collection of ONE data type\n",
    "l = [9.0, 7, -5, 3.99]\n",
    "p = pd.Series(l)\n",
    "p # a pandas Series (made up of a numpy array)\n",
    "p.values\n",
    "p.index # ordinal index from zero"
   ]
  },
  {
   "cell_type": "code",
   "execution_count": 11,
   "id": "db265305",
   "metadata": {},
   "outputs": [
    {
     "data": {
      "text/plain": [
       "b    7.0\n",
       "b   -5.0\n",
       "dtype: float64"
      ]
     },
     "execution_count": 11,
     "metadata": {},
     "output_type": "execute_result"
    }
   ],
   "source": [
    "# We may customize the index\n",
    "ind = ('c', 'b', 'b', 'd')\n",
    "p = pd.Series(l, index=ind)\n",
    "p # we see the Series indexed using our tuple\n",
    "# so what about slicing...\n",
    "p[0:3] # use the underlying ordinality\n",
    "p['b':'d'] # NB this is INCLUSIVE (not stop-before)\n",
    "p['c'] = 99 # we may mutate members\n",
    "p['b'] # gets all matching index members (index need not be unique)"
   ]
  },
  {
   "cell_type": "code",
   "execution_count": 18,
   "id": "75fce6d6",
   "metadata": {},
   "outputs": [
    {
     "data": {
      "text/plain": [
       "c    297.00\n",
       "b     21.00\n",
       "d     11.97\n",
       "dtype: float64"
      ]
     },
     "execution_count": 18,
     "metadata": {},
     "output_type": "execute_result"
    }
   ],
   "source": [
    "s = p*3 # by default operations are transitory (they do not persist)\n",
    "# p[p>2] # or any comparison operator\n",
    "s[s>10]"
   ]
  },
  {
   "cell_type": "code",
   "execution_count": 33,
   "id": "44ff79d7",
   "metadata": {},
   "outputs": [
    {
     "data": {
      "text/plain": [
       "np.float64(314.97)"
      ]
     },
     "execution_count": 33,
     "metadata": {},
     "output_type": "execute_result"
    }
   ],
   "source": [
    "# Working with non-numbers\n",
    "s['a'] = np.nan\n",
    "s.count() # excludes NaN members\n",
    "s.mean() # excludes non-numbers\n",
    "s.sum() # all excluding NaN"
   ]
  },
  {
   "cell_type": "code",
   "execution_count": 36,
   "id": "2017d9ea",
   "metadata": {},
   "outputs": [
    {
     "data": {
      "text/plain": [
       "c    297.00\n",
       "b     21.00\n",
       "b    -15.00\n",
       "d     11.97\n",
       "a       NaN\n",
       "dtype: float64"
      ]
     },
     "execution_count": 36,
     "metadata": {},
     "output_type": "execute_result"
    }
   ],
   "source": [
    "s.index\n",
    "s"
   ]
  },
  {
   "cell_type": "code",
   "execution_count": 37,
   "id": "7d9966b2",
   "metadata": {},
   "outputs": [
    {
     "data": {
      "text/plain": [
       "np.float64(-15.0)"
      ]
     },
     "execution_count": 37,
     "metadata": {},
     "output_type": "execute_result"
    }
   ],
   "source": [
    "# we may ue iloc to grab ordinal members\n",
    "s.iloc[2] # iloc for index-location (uses the underlying ordinal members)\n",
    "# s[3] # this fails\n",
    "# s['c'] # access by the index"
   ]
  },
  {
   "cell_type": "markdown",
   "id": "1e82d188",
   "metadata": {},
   "source": [
    "### DataFrame"
   ]
  },
  {
   "cell_type": "code",
   "execution_count": 43,
   "id": "6414697a",
   "metadata": {},
   "outputs": [
    {
     "data": {
      "text/html": [
       "<div>\n",
       "<style scoped>\n",
       "    .dataframe tbody tr th:only-of-type {\n",
       "        vertical-align: middle;\n",
       "    }\n",
       "\n",
       "    .dataframe tbody tr th {\n",
       "        vertical-align: top;\n",
       "    }\n",
       "\n",
       "    .dataframe thead th {\n",
       "        text-align: right;\n",
       "    }\n",
       "</style>\n",
       "<table border=\"1\" class=\"dataframe\">\n",
       "  <thead>\n",
       "    <tr style=\"text-align: right;\">\n",
       "      <th></th>\n",
       "      <th>Cork</th>\n",
       "      <th>Dublin</th>\n",
       "      <th>Galway</th>\n",
       "      <th>Athlone</th>\n",
       "      <th>Genoa</th>\n",
       "    </tr>\n",
       "  </thead>\n",
       "  <tbody>\n",
       "    <tr>\n",
       "      <th>Cork</th>\n",
       "      <td>35000</td>\n",
       "      <td>71000</td>\n",
       "      <td>16000</td>\n",
       "      <td>5000</td>\n",
       "      <td>500</td>\n",
       "    </tr>\n",
       "    <tr>\n",
       "      <th>Dublin</th>\n",
       "      <td>35000</td>\n",
       "      <td>71000</td>\n",
       "      <td>16000</td>\n",
       "      <td>5000</td>\n",
       "      <td>500</td>\n",
       "    </tr>\n",
       "    <tr>\n",
       "      <th>Shannon</th>\n",
       "      <td>35000</td>\n",
       "      <td>71000</td>\n",
       "      <td>16000</td>\n",
       "      <td>5000</td>\n",
       "      <td>500</td>\n",
       "    </tr>\n",
       "    <tr>\n",
       "      <th>Galway</th>\n",
       "      <td>35000</td>\n",
       "      <td>71000</td>\n",
       "      <td>16000</td>\n",
       "      <td>5000</td>\n",
       "      <td>500</td>\n",
       "    </tr>\n",
       "    <tr>\n",
       "      <th>Athlone</th>\n",
       "      <td>35000</td>\n",
       "      <td>71000</td>\n",
       "      <td>16000</td>\n",
       "      <td>5000</td>\n",
       "      <td>500</td>\n",
       "    </tr>\n",
       "  </tbody>\n",
       "</table>\n",
       "</div>"
      ],
      "text/plain": [
       "          Cork  Dublin  Galway  Athlone  Genoa\n",
       "Cork     35000   71000   16000     5000    500\n",
       "Dublin   35000   71000   16000     5000    500\n",
       "Shannon  35000   71000   16000     5000    500\n",
       "Galway   35000   71000   16000     5000    500\n",
       "Athlone  35000   71000   16000     5000    500"
      ]
     },
     "execution_count": 43,
     "metadata": {},
     "output_type": "execute_result"
    }
   ],
   "source": [
    "# a Pandas DataFrame is a collection of Series\n",
    "# Therefore each column of a DataFrame must contain one data type only\n",
    "# But different columns may contain different data types\n",
    "# It is very similar to a spreadsheet\n",
    "city_data = {'Cork':35000, 'Dublin':71000, 'Galway':16000, 'Athlone':5000, 'Genoa':500}# dict\n",
    "index_data = ['Cork', 'Dublin', 'Shannon', 'Galway', 'Athlone'] # list or a tuple\n",
    "df = pd.DataFrame(city_data, index=index_data)\n",
    "df"
   ]
  },
  {
   "cell_type": "code",
   "execution_count": null,
   "id": "d6596909",
   "metadata": {},
   "outputs": [],
   "source": [
    "# another DataFrame\n",
    "towns_l = ['Cork', 'Dublin', 'Galway', 'Athlone', 'Shannon', 'Rosscarbery', 'Athenry']\n",
    "years_l = [2017, 2018, 2019, 2020, 2021, 2022, 2023]\n",
    "pop_l   = [1.5, 1.7, 3.6, 2.4, 2.9, 3.2, 1.7]\n",
    "data_d = {'Towns':towns_l, 'Years':years_l, 'Pop':pop_l}"
   ]
  }
 ],
 "metadata": {
  "kernelspec": {
   "display_name": "Python 3 (ipykernel)",
   "language": "python",
   "name": "python3"
  },
  "language_info": {
   "codemirror_mode": {
    "name": "ipython",
    "version": 3
   },
   "file_extension": ".py",
   "mimetype": "text/x-python",
   "name": "python",
   "nbconvert_exporter": "python",
   "pygments_lexer": "ipython3",
   "version": "3.9.13"
  }
 },
 "nbformat": 4,
 "nbformat_minor": 5
}
