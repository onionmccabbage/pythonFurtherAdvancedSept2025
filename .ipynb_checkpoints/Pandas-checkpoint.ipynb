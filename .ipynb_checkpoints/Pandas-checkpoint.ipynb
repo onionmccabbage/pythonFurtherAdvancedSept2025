{
 "cells": [
  {
   "cell_type": "markdown",
   "id": "4ea545b3",
   "metadata": {},
   "source": [
    "### Introducting Pandas\n",
    "Numpy and Pandas are both used for data analysis"
   ]
  },
  {
   "cell_type": "code",
   "execution_count": 2,
   "id": "6b006343",
   "metadata": {
    "scrolled": true
   },
   "outputs": [],
   "source": [
    "# We normally begin by importing the usual libraries\n",
    "import numpy as np\n",
    "import pandas as pd # NB resolved problem by uninstall and reinstall\n",
    "# import matplotlib.pyplot as plt"
   ]
  },
  {
   "cell_type": "code",
   "execution_count": 5,
   "id": "16c989e5",
   "metadata": {},
   "outputs": [
    {
     "data": {
      "text/plain": [
       "RangeIndex(start=0, stop=4, step=1)"
      ]
     },
     "execution_count": 5,
     "metadata": {},
     "output_type": "execute_result"
    }
   ],
   "source": [
    "# Pandas Series - a mutable ordinal collection of ONE data type\n",
    "l = [9.0, 7, -5, 3.99]\n",
    "p = pd.Series(l)\n",
    "p # a pandas Series (made up of a numpy array)\n",
    "p.values\n",
    "p.index # ordinal index from zero"
   ]
  },
  {
   "cell_type": "code",
   "execution_count": 11,
   "id": "d2e0dcf9",
   "metadata": {},
   "outputs": [
    {
     "data": {
      "text/plain": [
       "b    7.0\n",
       "b   -5.0\n",
       "dtype: float64"
      ]
     },
     "execution_count": 11,
     "metadata": {},
     "output_type": "execute_result"
    }
   ],
   "source": [
    "# We may customize the index\n",
    "ind = ('c', 'b', 'b', 'd')\n",
    "p = pd.Series(l, index=ind)\n",
    "p # we see the Series indexed using our tuple\n",
    "# so what about slicing...\n",
    "p[0:3] # use the underlying ordinality\n",
    "p['b':'d'] # NB this is INCLUSIVE (not stop-before)\n",
    "p['c'] = 99 # we may mutate members\n",
    "p['b'] # gets all matching index members (index need not be unique)"
   ]
  },
  {
   "cell_type": "code",
   "execution_count": 18,
   "id": "5a027aca",
   "metadata": {},
   "outputs": [
    {
     "data": {
      "text/plain": [
       "c    297.00\n",
       "b     21.00\n",
       "d     11.97\n",
       "dtype: float64"
      ]
     },
     "execution_count": 18,
     "metadata": {},
     "output_type": "execute_result"
    }
   ],
   "source": [
    "s = p*3 # by default operations are transitory (they do not persist)\n",
    "# p[p>2] # or any comparison operator\n",
    "s[s>10]"
   ]
  },
  {
   "cell_type": "code",
   "execution_count": 28,
   "id": "fa5262c7",
   "metadata": {},
   "outputs": [
    {
     "data": {
      "text/plain": [
       "c    297.00\n",
       "b     21.00\n",
       "b    -15.00\n",
       "d     11.97\n",
       "a       NaN\n",
       "dtype: float64"
      ]
     },
     "execution_count": 28,
     "metadata": {},
     "output_type": "execute_result"
    }
   ],
   "source": [
    "# Working with non-numbers\n",
    "s['a'] = np.nan\n",
    "s.count() # excludes NaN members\n",
    "# s.mean() # excludes non-numbers\n",
    "# s.sum()\n",
    "s"
   ]
  },
  {
   "cell_type": "code",
   "execution_count": 23,
   "id": "6a46e754",
   "metadata": {},
   "outputs": [
    {
     "data": {
      "text/plain": [
       "Index(['c', 'b', 'b', 'd', 'a'], dtype='object')"
      ]
     },
     "execution_count": 23,
     "metadata": {},
     "output_type": "execute_result"
    }
   ],
   "source": [
    "s.index"
   ]
  },
  {
   "cell_type": "code",
   "execution_count": 26,
   "id": "7beab653",
   "metadata": {},
   "outputs": [
    {
     "data": {
      "text/plain": [
       "np.float64(11.97)"
      ]
     },
     "execution_count": 26,
     "metadata": {},
     "output_type": "execute_result"
    }
   ],
   "source": [
    "# we may ue iloc to grab ordinal members\n",
    "s.iloc[3] # iloc for index-location (uses the ubnderlying ordinal members)\n",
    "# s[3] # this fails"
   ]
  },
  {
   "cell_type": "code",
   "execution_count": null,
   "id": "3b54958c",
   "metadata": {},
   "outputs": [],
   "source": []
  }
 ],
 "metadata": {
  "kernelspec": {
   "display_name": "Python 3 (ipykernel)",
   "language": "python",
   "name": "python3"
  },
  "language_info": {
   "codemirror_mode": {
    "name": "ipython",
    "version": 3
   },
   "file_extension": ".py",
   "mimetype": "text/x-python",
   "name": "python",
   "nbconvert_exporter": "python",
   "pygments_lexer": "ipython3",
   "version": "3.9.13"
  }
 },
 "nbformat": 4,
 "nbformat_minor": 5
}
